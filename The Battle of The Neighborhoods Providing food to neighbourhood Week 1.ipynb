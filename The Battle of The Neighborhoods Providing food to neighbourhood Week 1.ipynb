{
 "cells": [
  {
   "cell_type": "markdown",
   "metadata": {},
   "source": [
    "# The Battle of The Neighborhoods: Providing food to neighbourhood\n",
    "\n",
    "### Introduction\n",
    " Due to COVID-19, restriction of patrons to dine in restaurants has resulted in a dramatic loss of income for restaurant owners. One of the ways of relieving this negative impact was to engage in food delivery service. However, the cost of food delivery and duration of delivery affecting the quality of the food drove the revenue down once again. A potential solution is to move the business closer to homes, where they may scale down their business and focus on takeaway orders. It could be a preorder takeaway drive-through business model. The limitation to this is to find a neighborhood with little competition therefore increasing the chance of a comeback. In this report, I will be using Toronto as a city model where I analyzed food venues in each neighborhood and identify potential neighborhood to move the business to.\n",
    "\n",
    "### Data\n",
    "The data used is split into 2 parts, the first is the coordinate of each neighborhood in Toronto. We web scrap Wikipedia (https://en.wikipedia.org/wiki/List_of_postal_codes_of_Canada:_M) to get the postal code of each borough and neighborhood. Next, from (https://cocl.us/Geospatial_data) we get the geocoordinates of the postal code of Toronto. The second part is using foursquare API to obtain venues around each neighbourhood. By using geocoordinates obtained in part 1, we will make call to have a list of venues in each neighbourhood. \n",
    "\n",
    "### From Data to solution\n",
    "By using the data, we will be able to plot Toronto based on the frequency of food venues and give suggestion of areas lacking of food establishments.\n"
   ]
  },
  {
   "cell_type": "code",
   "execution_count": null,
   "metadata": {},
   "outputs": [],
   "source": []
  }
 ],
 "metadata": {
  "kernelspec": {
   "display_name": "Python 3",
   "language": "python",
   "name": "python3"
  },
  "language_info": {
   "codemirror_mode": {
    "name": "ipython",
    "version": 3
   },
   "file_extension": ".py",
   "mimetype": "text/x-python",
   "name": "python",
   "nbconvert_exporter": "python",
   "pygments_lexer": "ipython3",
   "version": "3.8.5"
  }
 },
 "nbformat": 4,
 "nbformat_minor": 4
}
